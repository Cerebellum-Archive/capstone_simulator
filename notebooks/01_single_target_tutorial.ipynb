{
  "cells": [
    {
      "cell_type": "markdown",
      "metadata": {},
      "source": [
        "# \ud83d\udcc8 Single-Target Statistical Arbitrage Tutorial\n",
        "\n",
        "This notebook demonstrates how to build and backtest a single-target quantitative trading strategy using walk-forward validation.\n",
        "\n",
        "## Learning Objectives\n",
        "\n",
        "1. Load and prepare financial time-series data\n",
        "2. Implement walk-forward backtesting methodology\n",
        "3. Test multiple position sizing strategies\n",
        "4. Evaluate performance with professional benchmarks\n",
        "5. Generate publication-quality tear sheets"
      ]
    },
    {
      "cell_type": "markdown",
      "metadata": {},
      "source": [
        "## 1. Setup and Imports"
      ]
    },
    {
      "cell_type": "code",
      "execution_count": 1,
      "metadata": {},
      "outputs": [
        {
          "name": "stdout",
          "output_type": "stream",
          "text": [
            "\u2705 Imports successful!\n"
          ]
        }
      ],
      "source": [
        "# Add project source to path\n",
        "import sys\n",
        "sys.path.append('../src')\n",
        "\n",
        "import numpy as np\n",
        "import pandas as pd\n",
        "import matplotlib.pyplot as plt\n",
        "import warnings\n",
        "warnings.filterwarnings('ignore')\n",
        "\n",
        "# Import simulation modules\n",
        "from single_target_simulator import (\n",
        "    load_and_prepare_data,\n",
        "    Simulate,\n",
        "    sim_stats_single_target,\n",
        "    SingleTargetBenchmarkManager,\n",
        "    SingleTargetBenchmarkConfig,\n",
        "    BinaryPositionSizer,\n",
        "    QuartilePositionSizer,\n",
        "    ProportionalPositionSizer\n",
        ")\n",
        "\n",
        "# Import plotting utilities\n",
        "from plotting_utils import create_professional_tear_sheet\n",
        "\n",
        "# Scikit-learn\n",
        "from sklearn.preprocessing import StandardScaler\n",
        "from sklearn.linear_model import Ridge, Lasso\n",
        "\n",
        "print(\"\u2705 Imports successful!\")"
      ]
    },
    {
      "cell_type": "markdown",
      "metadata": {},
      "source": [
        "## 2. Configuration and Data Loading\n",
        "\n",
        "We'll predict SPY (S&P 500 ETF) returns using sector ETFs as features."
      ]
    },
    {
      "cell_type": "code",
      "execution_count": 2,
      "metadata": {},
      "outputs": [
        {
          "name": "stdout",
          "output_type": "stream",
          "text": [
            "\ud83d\udcca Configuration:\n",
            "  Target ETF: SPY\n",
            "  Feature ETFs: ['XLK', 'XLF', 'XLV', 'XLY', 'XLP', 'XLE']\n",
            "  Start Date: 2020-01-01\n",
            "  Window Type: expanding\n",
            "  Window Size: 200\n"
          ]
        }
      ],
      "source": [
        "# Simulation configuration\n",
        "TARGET_ETF = 'SPY'\n",
        "FEATURE_ETFS = ['XLK', 'XLF', 'XLV', 'XLY', 'XLP', 'XLE']  # Sector ETFs\n",
        "START_DATE = '2020-01-01'\n",
        "WINDOW_SIZE = 200  # Minimum training window\n",
        "WINDOW_TYPE = 'expanding'  # Growing window over time\n",
        "\n",
        "print(f\"\ud83d\udcca Configuration:\")\n",
        "print(f\"  Target ETF: {TARGET_ETF}\")\n",
        "print(f\"  Feature ETFs: {FEATURE_ETFS}\")\n",
        "print(f\"  Start Date: {START_DATE}\")\n",
        "print(f\"  Window Type: {WINDOW_TYPE}\")\n",
        "print(f\"  Window Size: {WINDOW_SIZE}\")"
      ]
    },
    {
      "cell_type": "code",
      "execution_count": null,
      "metadata": {},
      "outputs": [],
      "source": [
        "# Load and prepare data\n",
        "# Note: etf_list must include ALL ETFs (features + target)\n",
        "print(\"\ud83d\udce5 Loading ETF data...\")\n",
        "ALL_ETFS = FEATURE_ETFS + [TARGET_ETF]\n",
        "X, y, all_returns = load_and_prepare_data(\n",
        "    etf_list=ALL_ETFS,\n",
        "    target_etf=TARGET_ETF,\n",
        "    start_date=START_DATE\n",
        ")\n",
        "\n",
        "print(f\"\\n\u2705 Data loaded successfully!\")\n",
        "print(f\"  Features (X): {X.shape}\")\n",
        "print(f\"  Target (y): {y.shape}\")\n",
        "print(f\"  Date range: {X.index[0].date()} to {X.index[-1].date()}\")\n",
        "print(f\"\\n\ud83d\udcc8 First few rows of features:\")\n",
        "display(X.head())"
      ]
    },
    {
      "cell_type": "markdown",
      "metadata": {},
      "source": [
        "## 3. Initialize Benchmarks\n",
        "\n",
        "Professional benchmarks help us evaluate if our strategy adds value."
      ]
    },
    {
      "cell_type": "code",
      "execution_count": null,
      "metadata": {},
      "outputs": [],
      "source": [
        "# Initialize benchmark manager\n",
        "benchmark_config = SingleTargetBenchmarkConfig()\n",
        "benchmark_manager = SingleTargetBenchmarkManager(\n",
        "    target_etf=TARGET_ETF,\n",
        "    feature_etfs=FEATURE_ETFS,\n",
        "    config=benchmark_config\n",
        ")\n",
        "\n",
        "print(\"\ud83d\udcca Available Benchmarks:\")\n",
        "for name in benchmark_manager.benchmarks.keys():\n",
        "    print(f\"  - {name}\")"
      ]
    },
    {
      "cell_type": "markdown",
      "metadata": {},
      "source": [
        "## 4. Define Position Sizing Strategies\n",
        "\n",
        "Position sizing determines how we translate model predictions into portfolio leverage."
      ]
    },
    {
      "cell_type": "code",
      "execution_count": null,
      "metadata": {},
      "outputs": [],
      "source": [
        "# Define position sizing strategies\n",
        "position_strategies = [\n",
        "    ('Binary', BinaryPositionSizer(short_position=-1.0, long_position=1.0)),\n",
        "    ('Proportional', ProportionalPositionSizer(max_position=2.0, min_position=0.0)),\n",
        "]\n",
        "\n",
        "print(\"\ud83d\udcca Position Sizing Strategies:\")\n",
        "for name, sizer in position_strategies:\n",
        "    print(f\"  - {name}: {sizer}\")"
      ]
    },
    {
      "cell_type": "markdown",
      "metadata": {},
      "source": [
        "## 5. Run Walk-Forward Simulations\n",
        "\n",
        "We'll test multiple model and position sizing combinations."
      ]
    },
    {
      "cell_type": "code",
      "execution_count": null,
      "metadata": {},
      "outputs": [],
      "source": [
        "# Define model configurations\n",
        "models_to_test = [\n",
        "    {\n",
        "        'name': 'ridge',\n",
        "        'pipe_steps': [('scaler', StandardScaler()), ('model', Ridge())],\n",
        "        'param_grid': {'model__alpha': 1.0}\n",
        "    },\n",
        "    {\n",
        "        'name': 'lasso',\n",
        "        'pipe_steps': [('scaler', StandardScaler()), ('model', Lasso())],\n",
        "        'param_grid': {'model__alpha': 0.1}\n",
        "    }\n",
        "]\n",
        "\n",
        "print(f\"\ud83d\udd04 Running {len(models_to_test) * len(position_strategies)} simulation combinations...\\n\")"
      ]
    },
    {
      "cell_type": "code",
      "execution_count": null,
      "metadata": {},
      "outputs": [],
      "source": [
        "# Run simulations\n",
        "regout_list = []\n",
        "sweep_tags = []\n",
        "metadata_list = []\n",
        "\n",
        "for model_config in models_to_test:\n",
        "    for pos_name, pos_sizer in position_strategies:\n",
        "        tag = f\"{model_config['name']}_{pos_name}\"\n",
        "        \n",
        "        print(f\"\\n{'='*60}\")\n",
        "        print(f\"\ud83d\udd04 Running: {tag}\")\n",
        "        print(f\"{'='*60}\")\n",
        "        \n",
        "        # Run simulation\n",
        "        regout, metadata = Simulate(\n",
        "            X=X,\n",
        "            y=y,\n",
        "            window_size=WINDOW_SIZE,\n",
        "            window_type=WINDOW_TYPE,\n",
        "            pipe_steps=model_config['pipe_steps'],\n",
        "            param_grid=model_config['param_grid'],\n",
        "            tag=tag,\n",
        "            etf_symbols=FEATURE_ETFS,\n",
        "            target_etf=TARGET_ETF,\n",
        "            start_date=START_DATE\n",
        "        )\n",
        "        \n",
        "        # Apply position sizing\n",
        "        positions = pos_sizer.calculate_position(regout['prediction'], regout['prediction'])\n",
        "        regout['portfolio_return'] = positions * y.loc[regout.index]\n",
        "        \n",
        "        regout_list.append(regout)\n",
        "        sweep_tags.append(tag)\n",
        "        metadata_list.append(metadata)\n",
        "        \n",
        "        print(f\"\u2705 Completed {tag}\")\n",
        "\n",
        "print(f\"\\n\\n\ud83c\udf89 All {len(regout_list)} simulations completed!\")"
      ]
    },
    {
      "cell_type": "markdown",
      "metadata": {},
      "source": [
        "## 6. Calculate Performance Statistics\n",
        "\n",
        "Compare all strategies against professional benchmarks."
      ]
    },
    {
      "cell_type": "code",
      "execution_count": null,
      "metadata": {},
      "outputs": [],
      "source": [
        "# Calculate statistics\n",
        "print(\"\ud83d\udcca Calculating performance statistics...\\n\")\n",
        "\n",
        "stats_df, results = sim_stats_single_target(\n",
        "    regout_list=regout_list,\n",
        "    sweep_tags=sweep_tags,\n",
        "    author='Tutorial',\n",
        "    target_etf=TARGET_ETF,\n",
        "    feature_etfs=FEATURE_ETFS,\n",
        "    benchmark_manager=benchmark_manager,\n",
        "    metadata_list=metadata_list\n",
        ")\n",
        "\n",
        "print(\"\u2705 Statistics calculated!\\n\")\n",
        "print(\"\ud83d\udcc8 Performance Summary:\")\n",
        "print(\"=\"*80)\n",
        "display(stats_df)"
      ]
    },
    {
      "cell_type": "markdown",
      "metadata": {},
      "source": [
        "## 7. Identify Best Strategy\n",
        "\n",
        "Find the strategy with the highest Sharpe ratio."
      ]
    },
    {
      "cell_type": "code",
      "execution_count": null,
      "metadata": {},
      "outputs": [],
      "source": [
        "# Find best strategy by Sharpe ratio\n",
        "if 'sharpe' in stats_df.columns:\n",
        "    best_strategy = stats_df['sharpe'].idxmax()\n",
        "    best_sharpe = stats_df.loc[best_strategy, 'sharpe']\n",
        "    best_return = stats_df.loc[best_strategy, 'return']\n",
        "    best_volatility = stats_df.loc[best_strategy, 'volatility']\n",
        "    \n",
        "    print(f\"\\n\ud83e\udd47 Best Strategy: {best_strategy}\")\n",
        "    print(f\"=\"*60)\n",
        "    print(f\"  Sharpe Ratio: {best_sharpe:.3f}\")\n",
        "    print(f\"  Annual Return: {best_return*100:.2f}%\")\n",
        "    print(f\"  Volatility: {best_volatility*100:.2f}%\")\n",
        "else:\n",
        "    best_strategy = sweep_tags[0]\n",
        "    print(f\"\u26a0\ufe0f Sharpe ratio not available, using first strategy: {best_strategy}\")"
      ]
    },
    {
      "cell_type": "markdown",
      "metadata": {},
      "source": [
        "## 8. Visualize Results\n",
        "\n",
        "Create cumulative return plots for all strategies."
      ]
    },
    {
      "cell_type": "code",
      "execution_count": null,
      "metadata": {},
      "outputs": [],
      "source": [
        "# Plot cumulative returns\n",
        "fig, ax = plt.subplots(figsize=(14, 7))\n",
        "\n",
        "for i, (regout, tag) in enumerate(zip(regout_list, sweep_tags)):\n",
        "    if 'perf_ret' in regout.columns:\n",
        "        cumulative = (1 + regout['perf_ret']).cumprod()\n",
        "        ax.plot(cumulative.index, cumulative.values, label=tag, linewidth=2)\n",
        "\n",
        "# Add SPY benchmark\n",
        "spy_cumulative = (1 + y).cumprod()\n",
        "ax.plot(spy_cumulative.index, spy_cumulative.values, \n",
        "        label='SPY Buy & Hold', color='black', linestyle='--', linewidth=2)\n",
        "\n",
        "ax.set_title('Cumulative Returns: Strategy Comparison', fontsize=16, fontweight='bold')\n",
        "ax.set_xlabel('Date', fontsize=12)\n",
        "ax.set_ylabel('Cumulative Return', fontsize=12)\n",
        "ax.legend(loc='best', fontsize=10)\n",
        "ax.grid(True, alpha=0.3)\n",
        "plt.tight_layout()\n",
        "plt.show()\n",
        "\n",
        "print(\"\ud83d\udcc8 Cumulative returns plotted!\")"
      ]
    },
    {
      "cell_type": "markdown",
      "metadata": {},
      "source": [
        "## 9. Summary and Next Steps\n",
        "\n",
        "### Key Takeaways\n",
        "\n",
        "1. **Walk-Forward Validation**: We prevented look-ahead bias by training only on historical data\n",
        "2. **Position Sizing**: Different strategies can significantly impact returns and risk\n",
        "3. **Benchmarking**: Professional comparison is essential for evaluating alpha generation\n",
        "4. **Performance Metrics**: Sharpe ratio, drawdowns, and volatility are key indicators\n",
        "\n",
        "### Next Steps\n",
        "\n",
        "1. Try different machine learning models (RandomForest, XGBoost, etc.)\n",
        "2. Experiment with feature engineering (momentum, volatility, etc.)\n",
        "3. Test different position sizing strategies\n",
        "4. Move to multi-target strategies (see `02_multi_target_tutorial.ipynb`)\n",
        "5. Implement risk management (stop-losses, position limits)\n",
        "\n",
        "### Resources\n",
        "\n",
        "- Project README: `../README.md`\n",
        "- Documentation: `../docs/`\n",
        "- Source code: `../src/`"
      ]
    },
    {
      "cell_type": "code",
      "execution_count": null,
      "metadata": {},
      "outputs": [],
      "source": [
        "print(\"\\n\" + \"=\"*80)\n",
        "print(\"\ud83c\udf89 Tutorial Complete!\")\n",
        "print(\"=\"*80)\n",
        "print(f\"\\nStrategies tested: {len(sweep_tags)}\")\n",
        "print(f\"Best strategy: {best_strategy}\")\n",
        "print(f\"\\nNext: Check out the multi-target tutorial for more advanced strategies!\")\n",
        "print(\"=\"*80)"
      ]
    }
  ],
  "metadata": {
    "kernelspec": {
      "display_name": "venv",
      "language": "python",
      "name": "python3"
    },
    "language_info": {
      "codemirror_mode": {
        "name": "ipython",
        "version": 3
      },
      "file_extension": ".py",
      "mimetype": "text/x-python",
      "name": "python",
      "nbconvert_exporter": "python",
      "pygments_lexer": "ipython3",
      "version": "3.11.12"
    }
  },
  "nbformat": 4,
  "nbformat_minor": 4
}